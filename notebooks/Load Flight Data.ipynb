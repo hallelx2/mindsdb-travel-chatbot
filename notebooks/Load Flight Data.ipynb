{
 "cells": [
  {
   "cell_type": "code",
   "execution_count": 1,
   "metadata": {},
   "outputs": [],
   "source": [
    "from env import config, BASE_DIR\n",
    "from sqlalchemy import create_engine, text\n",
    "import pymysql\n",
    "pymysql.install_as_MySQLdb()"
   ]
  },
  {
   "cell_type": "code",
   "execution_count": 4,
   "metadata": {},
   "outputs": [
    {
     "data": {
      "text/plain": [
       "True"
      ]
     },
     "execution_count": 4,
     "metadata": {},
     "output_type": "execute_result"
    }
   ],
   "source": [
    "DATABASE_URL =  config('AIR_TRAVEL_DATABASE_URL', None)\n",
    "DATABASE_URL is not None"
   ]
  },
  {
   "cell_type": "code",
   "execution_count": 5,
   "metadata": {},
   "outputs": [],
   "source": [
    "engine = create_engine(str(DATABASE_URL))"
   ]
  },
  {
   "cell_type": "code",
   "execution_count": 6,
   "metadata": {},
   "outputs": [
    {
     "data": {
      "text/plain": [
       "True"
      ]
     },
     "execution_count": 6,
     "metadata": {},
     "output_type": "execute_result"
    }
   ],
   "source": [
    "DATASET_DIR=BASE_DIR / \"data\"\n",
    "DATASET_DIR.exists()"
   ]
  },
  {
   "cell_type": "code",
   "execution_count": 7,
   "metadata": {},
   "outputs": [
    {
     "data": {
      "text/plain": [
       "True"
      ]
     },
     "execution_count": 7,
     "metadata": {},
     "output_type": "execute_result"
    }
   ],
   "source": [
    "FLIGHT_PRICES_CSV = DATASET_DIR / 'itineraries-min-50k.csv'\n",
    "FLIGHT_PRICES_CSV.exists()"
   ]
  },
  {
   "cell_type": "code",
   "execution_count": 8,
   "metadata": {},
   "outputs": [],
   "source": [
    "import pandas as pd"
   ]
  },
  {
   "cell_type": "code",
   "execution_count": 9,
   "metadata": {},
   "outputs": [],
   "source": [
    "df = pd.read_csv(FLIGHT_PRICES_CSV)"
   ]
  },
  {
   "cell_type": "code",
   "execution_count": 10,
   "metadata": {},
   "outputs": [
    {
     "data": {
      "text/html": [
       "<div>\n",
       "<style scoped>\n",
       "    .dataframe tbody tr th:only-of-type {\n",
       "        vertical-align: middle;\n",
       "    }\n",
       "\n",
       "    .dataframe tbody tr th {\n",
       "        vertical-align: top;\n",
       "    }\n",
       "\n",
       "    .dataframe thead th {\n",
       "        text-align: right;\n",
       "    }\n",
       "</style>\n",
       "<table border=\"1\" class=\"dataframe\">\n",
       "  <thead>\n",
       "    <tr style=\"text-align: right;\">\n",
       "      <th></th>\n",
       "      <th>legId</th>\n",
       "      <th>searchDate</th>\n",
       "      <th>flightDate</th>\n",
       "      <th>startingAirport</th>\n",
       "      <th>destinationAirport</th>\n",
       "      <th>fareBasisCode</th>\n",
       "      <th>travelDuration</th>\n",
       "      <th>elapsedDays</th>\n",
       "      <th>isBasicEconomy</th>\n",
       "      <th>isRefundable</th>\n",
       "      <th>...</th>\n",
       "      <th>segmentsArrivalTimeEpochSeconds</th>\n",
       "      <th>segmentsArrivalTimeRaw</th>\n",
       "      <th>segmentsArrivalAirportCode</th>\n",
       "      <th>segmentsDepartureAirportCode</th>\n",
       "      <th>segmentsAirlineName</th>\n",
       "      <th>segmentsAirlineCode</th>\n",
       "      <th>segmentsEquipmentDescription</th>\n",
       "      <th>segmentsDurationInSeconds</th>\n",
       "      <th>segmentsDistance</th>\n",
       "      <th>segmentsCabinCode</th>\n",
       "    </tr>\n",
       "  </thead>\n",
       "  <tbody>\n",
       "    <tr>\n",
       "      <th>0</th>\n",
       "      <td>9ca0e81111c683bec1012473feefd28f</td>\n",
       "      <td>2022-04-16</td>\n",
       "      <td>2022-04-17</td>\n",
       "      <td>ATL</td>\n",
       "      <td>BOS</td>\n",
       "      <td>LA0NX0MC</td>\n",
       "      <td>PT2H29M</td>\n",
       "      <td>0.0</td>\n",
       "      <td>False</td>\n",
       "      <td>False</td>\n",
       "      <td>...</td>\n",
       "      <td>1650223560</td>\n",
       "      <td>2022-04-17T15:26:00.000-04:00</td>\n",
       "      <td>BOS</td>\n",
       "      <td>ATL</td>\n",
       "      <td>Delta</td>\n",
       "      <td>DL</td>\n",
       "      <td>Airbus A321</td>\n",
       "      <td>8940</td>\n",
       "      <td>947</td>\n",
       "      <td>coach</td>\n",
       "    </tr>\n",
       "    <tr>\n",
       "      <th>1</th>\n",
       "      <td>98685953630e772a098941b71906592b</td>\n",
       "      <td>2022-04-16</td>\n",
       "      <td>2022-04-17</td>\n",
       "      <td>ATL</td>\n",
       "      <td>BOS</td>\n",
       "      <td>LA0NX0MC</td>\n",
       "      <td>PT2H30M</td>\n",
       "      <td>0.0</td>\n",
       "      <td>False</td>\n",
       "      <td>False</td>\n",
       "      <td>...</td>\n",
       "      <td>1650200400</td>\n",
       "      <td>2022-04-17T09:00:00.000-04:00</td>\n",
       "      <td>BOS</td>\n",
       "      <td>ATL</td>\n",
       "      <td>Delta</td>\n",
       "      <td>DL</td>\n",
       "      <td>Airbus A321</td>\n",
       "      <td>9000</td>\n",
       "      <td>947</td>\n",
       "      <td>coach</td>\n",
       "    </tr>\n",
       "    <tr>\n",
       "      <th>2</th>\n",
       "      <td>98d90cbc32bfbb05c2fc32897c7c1087</td>\n",
       "      <td>2022-04-16</td>\n",
       "      <td>2022-04-17</td>\n",
       "      <td>ATL</td>\n",
       "      <td>BOS</td>\n",
       "      <td>LA0NX0MC</td>\n",
       "      <td>PT2H30M</td>\n",
       "      <td>0.0</td>\n",
       "      <td>False</td>\n",
       "      <td>False</td>\n",
       "      <td>...</td>\n",
       "      <td>1650218700</td>\n",
       "      <td>2022-04-17T14:05:00.000-04:00</td>\n",
       "      <td>BOS</td>\n",
       "      <td>ATL</td>\n",
       "      <td>Delta</td>\n",
       "      <td>DL</td>\n",
       "      <td>Boeing 757-200</td>\n",
       "      <td>9000</td>\n",
       "      <td>947</td>\n",
       "      <td>coach</td>\n",
       "    </tr>\n",
       "    <tr>\n",
       "      <th>3</th>\n",
       "      <td>969a269d38eae583f455486fa90877b4</td>\n",
       "      <td>2022-04-16</td>\n",
       "      <td>2022-04-17</td>\n",
       "      <td>ATL</td>\n",
       "      <td>BOS</td>\n",
       "      <td>LA0NX0MC</td>\n",
       "      <td>PT2H32M</td>\n",
       "      <td>0.0</td>\n",
       "      <td>False</td>\n",
       "      <td>False</td>\n",
       "      <td>...</td>\n",
       "      <td>1650227460</td>\n",
       "      <td>2022-04-17T16:31:00.000-04:00</td>\n",
       "      <td>BOS</td>\n",
       "      <td>ATL</td>\n",
       "      <td>Delta</td>\n",
       "      <td>DL</td>\n",
       "      <td>Airbus A321</td>\n",
       "      <td>9120</td>\n",
       "      <td>947</td>\n",
       "      <td>coach</td>\n",
       "    </tr>\n",
       "    <tr>\n",
       "      <th>4</th>\n",
       "      <td>980370cf27c89b40d2833a1d5afc9751</td>\n",
       "      <td>2022-04-16</td>\n",
       "      <td>2022-04-17</td>\n",
       "      <td>ATL</td>\n",
       "      <td>BOS</td>\n",
       "      <td>LA0NX0MC</td>\n",
       "      <td>PT2H34M</td>\n",
       "      <td>0.0</td>\n",
       "      <td>False</td>\n",
       "      <td>False</td>\n",
       "      <td>...</td>\n",
       "      <td>1650213180</td>\n",
       "      <td>2022-04-17T12:33:00.000-04:00</td>\n",
       "      <td>BOS</td>\n",
       "      <td>ATL</td>\n",
       "      <td>Delta</td>\n",
       "      <td>DL</td>\n",
       "      <td>Airbus A321</td>\n",
       "      <td>9240</td>\n",
       "      <td>947</td>\n",
       "      <td>coach</td>\n",
       "    </tr>\n",
       "  </tbody>\n",
       "</table>\n",
       "<p>5 rows × 27 columns</p>\n",
       "</div>"
      ],
      "text/plain": [
       "                              legId  searchDate  flightDate startingAirport  \\\n",
       "0  9ca0e81111c683bec1012473feefd28f  2022-04-16  2022-04-17             ATL   \n",
       "1  98685953630e772a098941b71906592b  2022-04-16  2022-04-17             ATL   \n",
       "2  98d90cbc32bfbb05c2fc32897c7c1087  2022-04-16  2022-04-17             ATL   \n",
       "3  969a269d38eae583f455486fa90877b4  2022-04-16  2022-04-17             ATL   \n",
       "4  980370cf27c89b40d2833a1d5afc9751  2022-04-16  2022-04-17             ATL   \n",
       "\n",
       "  destinationAirport fareBasisCode travelDuration  elapsedDays  \\\n",
       "0                BOS      LA0NX0MC        PT2H29M          0.0   \n",
       "1                BOS      LA0NX0MC        PT2H30M          0.0   \n",
       "2                BOS      LA0NX0MC        PT2H30M          0.0   \n",
       "3                BOS      LA0NX0MC        PT2H32M          0.0   \n",
       "4                BOS      LA0NX0MC        PT2H34M          0.0   \n",
       "\n",
       "   isBasicEconomy  isRefundable  ...  segmentsArrivalTimeEpochSeconds  \\\n",
       "0           False         False  ...                       1650223560   \n",
       "1           False         False  ...                       1650200400   \n",
       "2           False         False  ...                       1650218700   \n",
       "3           False         False  ...                       1650227460   \n",
       "4           False         False  ...                       1650213180   \n",
       "\n",
       "          segmentsArrivalTimeRaw  segmentsArrivalAirportCode  \\\n",
       "0  2022-04-17T15:26:00.000-04:00                         BOS   \n",
       "1  2022-04-17T09:00:00.000-04:00                         BOS   \n",
       "2  2022-04-17T14:05:00.000-04:00                         BOS   \n",
       "3  2022-04-17T16:31:00.000-04:00                         BOS   \n",
       "4  2022-04-17T12:33:00.000-04:00                         BOS   \n",
       "\n",
       "   segmentsDepartureAirportCode  segmentsAirlineName segmentsAirlineCode  \\\n",
       "0                           ATL                Delta                  DL   \n",
       "1                           ATL                Delta                  DL   \n",
       "2                           ATL                Delta                  DL   \n",
       "3                           ATL                Delta                  DL   \n",
       "4                           ATL                Delta                  DL   \n",
       "\n",
       "  segmentsEquipmentDescription segmentsDurationInSeconds segmentsDistance  \\\n",
       "0                  Airbus A321                      8940              947   \n",
       "1                  Airbus A321                      9000              947   \n",
       "2               Boeing 757-200                      9000              947   \n",
       "3                  Airbus A321                      9120              947   \n",
       "4                  Airbus A321                      9240              947   \n",
       "\n",
       "  segmentsCabinCode  \n",
       "0             coach  \n",
       "1             coach  \n",
       "2             coach  \n",
       "3             coach  \n",
       "4             coach  \n",
       "\n",
       "[5 rows x 27 columns]"
      ]
     },
     "execution_count": 10,
     "metadata": {},
     "output_type": "execute_result"
    }
   ],
   "source": [
    "df.head()"
   ]
  },
  {
   "cell_type": "code",
   "execution_count": 11,
   "metadata": {},
   "outputs": [
    {
     "data": {
      "text/plain": [
       "50000"
      ]
     },
     "execution_count": 11,
     "metadata": {},
     "output_type": "execute_result"
    }
   ],
   "source": [
    "table_name = \"flight_prices\"\n",
    "df.to_sql(table_name, engine, if_exists='replace', index=False)"
   ]
  },
  {
   "cell_type": "code",
   "execution_count": 12,
   "metadata": {},
   "outputs": [
    {
     "name": "stdout",
     "output_type": "stream",
     "text": [
      "[('9ca0e81111c683bec1012473feefd28f', '2022-04-16', '2022-04-17', 'ATL', 'BOS', 'LA0NX0MC', 'PT2H29M', 0.0, 0, 0, 1, 217.67, 248.6, 9.0, 947.0, '1650214620', '2022-04-17T12:57:00.000-04:00', '1650223560', '2022-04-17T15:26:00.000-04:00', 'BOS', 'ATL', 'Delta', 'DL', 'Airbus A321', '8940', '947', 'coach'), ('98685953630e772a098941b71906592b', '2022-04-16', '2022-04-17', 'ATL', 'BOS', 'LA0NX0MC', 'PT2H30M', 0.0, 0, 0, 1, 217.67, 248.6, 4.0, 947.0, '1650191400', '2022-04-17T06:30:00.000-04:00', '1650200400', '2022-04-17T09:00:00.000-04:00', 'BOS', 'ATL', 'Delta', 'DL', 'Airbus A321', '9000', '947', 'coach'), ('98d90cbc32bfbb05c2fc32897c7c1087', '2022-04-16', '2022-04-17', 'ATL', 'BOS', 'LA0NX0MC', 'PT2H30M', 0.0, 0, 0, 1, 217.67, 248.6, 9.0, 947.0, '1650209700', '2022-04-17T11:35:00.000-04:00', '1650218700', '2022-04-17T14:05:00.000-04:00', 'BOS', 'ATL', 'Delta', 'DL', 'Boeing 757-200', '9000', '947', 'coach'), ('969a269d38eae583f455486fa90877b4', '2022-04-16', '2022-04-17', 'ATL', 'BOS', 'LA0NX0MC', 'PT2H32M', 0.0, 0, 0, 1, 217.67, 248.6, 8.0, 947.0, '1650218340', '2022-04-17T13:59:00.000-04:00', '1650227460', '2022-04-17T16:31:00.000-04:00', 'BOS', 'ATL', 'Delta', 'DL', 'Airbus A321', '9120', '947', 'coach'), ('980370cf27c89b40d2833a1d5afc9751', '2022-04-16', '2022-04-17', 'ATL', 'BOS', 'LA0NX0MC', 'PT2H34M', 0.0, 0, 0, 1, 217.67, 248.6, 9.0, 947.0, '1650203940', '2022-04-17T09:59:00.000-04:00', '1650213180', '2022-04-17T12:33:00.000-04:00', 'BOS', 'ATL', 'Delta', 'DL', 'Airbus A321', '9240', '947', 'coach'), ('79eda9f841e226a1e2121d74211e595c', '2022-04-16', '2022-04-17', 'ATL', 'BOS', 'VH0AUEL1', 'PT2H38M', 0.0, 0, 0, 1, 217.67, 248.6, 7.0, 947.0, '1650206700', '2022-04-17T10:45:00.000-04:00', '1650216180', '2022-04-17T13:23:00.000-04:00', 'BOS', 'ATL', 'JetBlue Airways', 'B6', None, '9480', '947', 'coach'), ('9335fae376c38bb61263281779f469ec', '2022-04-16', '2022-04-17', 'ATL', 'BOS', 'V0AJZNN1', 'PT4H12M', 0.0, 0, 0, 0, 213.02, 251.1, 3.0, 956.0, '1650198000||1650205620', '2022-04-17T08:20:00.000-04:00||2022-04-17T10:27:00.000-04:00', '1650203400||1650213120', '2022-04-17T09:50:00.000-04:00||2022-04-17T12:32:00.000-04:00', 'CLT||BOS', 'ATL||CLT', 'American Airlines||American Airlines', 'AA||AA', 'Airbus A320||Airbus A320', '5400||7500', '228||728', 'coach||coach'), ('3904bf87f2d1daf334f1ae7e3b876028', '2022-04-16', '2022-04-17', 'ATL', 'BOS', 'V0AJZNN1', 'PT5H18M', 0.0, 0, 0, 0, 213.02, 251.1, 3.0, 956.0, '1650198000||1650208800', '2022-04-17T08:20:00.000-04:00||2022-04-17T11:20:00.000-04:00', '1650203400||1650217080', '2022-04-17T09:50:00.000-04:00||2022-04-17T13:38:00.000-04:00', 'CLT||BOS', 'ATL||CLT', 'American Airlines||American Airlines', 'AA||AA', 'Airbus A320||Boeing 737-800', '5400||8280', '228||728', 'coach||coach'), ('d93988734c44a3c075d9efe373352507', '2022-04-16', '2022-04-17', 'ATL', 'BOS', 'V0AJZNN1', 'PT5H32M', 0.0, 0, 0, 0, 213.02, 251.1, 7.0, 956.0, '1650193200||1650205620', '2022-04-17T07:00:00.000-04:00||2022-04-17T10:27:00.000-04:00', '1650198060||1650213120', '2022-04-17T08:21:00.000-04:00||2022-04-17T12:32:00.000-04:00', 'CLT||BOS', 'ATL||CLT', 'American Airlines||American Airlines', 'AA||AA', 'Airbus A319||Airbus A320', '4860||7500', '228||728', 'coach||coach'), ('562e7d5dd6ecbf1509c0c19711dbdca9', '2022-04-16', '2022-04-17', 'ATL', 'BOS', 'V0AJZNN1', 'PT6H38M', 0.0, 0, 0, 0, 213.02, 251.1, 7.0, 956.0, '1650193200||1650208800', '2022-04-17T07:00:00.000-04:00||2022-04-17T11:20:00.000-04:00', '1650198060||1650217080', '2022-04-17T08:21:00.000-04:00||2022-04-17T13:38:00.000-04:00', 'CLT||BOS', 'ATL||CLT', 'American Airlines||American Airlines', 'AA||AA', 'Airbus A319||Boeing 737-800', '4860||8280', '228||728', 'coach||coach')]\n"
     ]
    }
   ],
   "source": [
    "with engine.connect() as conn:\n",
    "    results=conn.execute(text(f\"SELECT * FROM {table_name} LIMIT 10\"))\n",
    "    print(results.all())"
   ]
  }
 ],
 "metadata": {
  "kernelspec": {
   "display_name": "mindsdb-travel-chatbot-LBx4oKX5",
   "language": "python",
   "name": "python3"
  },
  "language_info": {
   "codemirror_mode": {
    "name": "ipython",
    "version": 3
   },
   "file_extension": ".py",
   "mimetype": "text/x-python",
   "name": "python",
   "nbconvert_exporter": "python",
   "pygments_lexer": "ipython3",
   "version": "3.12.3"
  }
 },
 "nbformat": 4,
 "nbformat_minor": 2
}
